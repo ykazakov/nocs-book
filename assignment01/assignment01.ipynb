{
 "cells": [
  {
   "cell_type": "markdown",
   "metadata": {},
   "source": [
    "# Number conversion\n",
    "The following two methods can be used to convert numbers from the given bases into decimal numbers.\n",
    "\n",
    "### Method 1: from lower positions (right) to higher positions (left):\n",
    "\n",
    "$\\large (d_nd_{n-1}...d_2d_1d_0)_b = d_0\\cdot b^0 + d_1\\cdot b^1 + d_2\\cdot b^2 + \\cdots + d_{n-1}\\cdot b^{n-1} + d_n\\cdot b^n$\n",
    "\n",
    "### Method 2: from higher positions (left) to lower positions (right):\n",
    "\n",
    "$\\large (d_nd_{n-1}...d_2d_1d_0)_b = ((\\cdots ((d_n) \\cdot b) + d_{n-1})\\cdot b) + \\dots + d_2) \\cdot b + d_1) \\cdot b + d_0$"
   ]
  },
  {
   "cell_type": "markdown",
   "metadata": {},
   "source": [
    "### Example:\n",
    "\n",
    "Calculate: $(10111)_2$\n",
    "\n",
    "**Method 1:**\n",
    "\n",
    "$(10111)_2 = 1\\cdot 2^0 + 1\\cdot 2^1 + 1\\cdot 2^2 + 0\\cdot 2^3 + 1\\cdot 2^4$"
   ]
  },
  {
   "cell_type": "code",
   "execution_count": 1,
   "metadata": {},
   "outputs": [
    {
     "data": {
      "text/plain": [
       "23"
      ]
     },
     "execution_count": 1,
     "metadata": {},
     "output_type": "execute_result"
    }
   ],
   "source": [
    "1*2**0 + 1*2**1 + 1*2**2 + 0*2**3 + 1*2**4"
   ]
  },
  {
   "cell_type": "markdown",
   "metadata": {},
   "source": [
    "**Method 2:**\n",
    "\n",
    "$(10111)_2 = ((((1)\\cdot 2 + 0)\\cdot 2 + 1)\\cdot 2 + 1)\\cdot 2 + 1$"
   ]
  },
  {
   "cell_type": "code",
   "execution_count": 2,
   "metadata": {},
   "outputs": [
    {
     "data": {
      "text/plain": [
       "23"
      ]
     },
     "execution_count": 2,
     "metadata": {},
     "output_type": "execute_result"
    }
   ],
   "source": [
    "(((((1)*2 + 0)*2 + 1)*2 + 1) * 2) + 1"
   ]
  },
  {
   "cell_type": "markdown",
   "metadata": {},
   "source": [
    "### Exercise: convert the following numbers to the given bases:\n",
    "\n",
    "1. (10111)<sub>3</sub>\n",
    "1. (1234)<sub>5</sub>\n",
    "1. (1000)<sub>4</sub>\n",
    "1. (340)<sub>4</sub>\n",
    "1. (FACE)<sub>16</sub>"
   ]
  },
  {
   "cell_type": "markdown",
   "metadata": {},
   "source": [
    "## Powers of two\n",
    "The powers of two, i.e., the numbers of the form $2^n$ appear in computer science all over the place. Learn by heart the values for n up to 10."
   ]
  },
  {
   "cell_type": "code",
   "execution_count": 4,
   "metadata": {},
   "outputs": [
    {
     "data": {
      "application/vnd.jupyter.widget-view+json": {
       "model_id": "ca3b5bfd343343109d94556bdb0b82ab",
       "version_major": 2,
       "version_minor": 0
      },
      "text/plain": [
       "HBox(children=(IntSlider(value=0, max=10, readout=False), HTML(value='<big>2<sup>0</sup> = <b>1</b></big>')))"
      ]
     },
     "metadata": {},
     "output_type": "display_data"
    }
   ],
   "source": [
    "%run learn-power.py"
   ]
  },
  {
   "cell_type": "markdown",
   "metadata": {},
   "source": [
    "Test your knowledge by completing the following test:"
   ]
  },
  {
   "cell_type": "code",
   "execution_count": 3,
   "metadata": {},
   "outputs": [
    {
     "data": {
      "application/vnd.jupyter.widget-view+json": {
       "model_id": "4e95bc4c86e2442cb16a4d56542abedf",
       "version_major": 2,
       "version_minor": 0
      },
      "text/plain": [
       "HBox(children=(HTML(value=''), IntText(value=0), Button(description='Submit', icon='check', style=ButtonStyle(…"
      ]
     },
     "metadata": {},
     "output_type": "display_data"
    },
    {
     "data": {
      "application/vnd.jupyter.widget-view+json": {
       "model_id": "3799b4cf0ce04830902e5926a1b83893",
       "version_major": 2,
       "version_minor": 0
      },
      "text/plain": [
       "HBox(children=(IntProgress(value=0, max=20), HTML(value='')))"
      ]
     },
     "metadata": {},
     "output_type": "display_data"
    },
    {
     "data": {
      "application/vnd.jupyter.widget-view+json": {
       "model_id": "430955b21c96460d8f351eb717d86ce5",
       "version_major": 2,
       "version_minor": 0
      },
      "text/plain": [
       "HTML(value='')"
      ]
     },
     "metadata": {},
     "output_type": "display_data"
    }
   ],
   "source": [
    "%run test-power.py"
   ]
  }
 ],
 "metadata": {
  "celltoolbar": "Tags",
  "kernelspec": {
   "display_name": "Python 3",
   "language": "python",
   "name": "python3"
  },
  "language_info": {
   "codemirror_mode": {
    "name": "ipython",
    "version": 3
   },
   "file_extension": ".py",
   "mimetype": "text/x-python",
   "name": "python",
   "nbconvert_exporter": "python",
   "pygments_lexer": "ipython3",
   "version": "3.8.3"
  }
 },
 "nbformat": 4,
 "nbformat_minor": 4
}
